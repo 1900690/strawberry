{
  "nbformat": 4,
  "nbformat_minor": 0,
  "metadata": {
    "colab": {
      "provenance": [],
      "include_colab_link": true
    },
    "kernelspec": {
      "name": "python3",
      "display_name": "Python 3"
    },
    "language_info": {
      "name": "python"
    }
  },
  "cells": [
    {
      "cell_type": "markdown",
      "metadata": {
        "id": "view-in-github",
        "colab_type": "text"
      },
      "source": [
        "<a href=\"https://colab.research.google.com/github/1900690/Strawberry/blob/main/eye_camera.ipynb\" target=\"_parent\"><img src=\"https://colab.research.google.com/assets/colab-badge.svg\" alt=\"Open In Colab\"/></a>"
      ]
    },
    {
      "cell_type": "code",
      "source": [
        "#@title 1.動画（.mp4）と視線データ(.json)をアップロード\n",
        "#ライブラリをインポート\n",
        "from pandas.core.base import doc\n",
        "import shutil\n",
        "import os\n",
        "from google.colab import files\n",
        "import pandas as pd\n",
        "from PIL import Image\n",
        "import cv2\n",
        "\n",
        "アップロード方法を選択 = '\\u30B0\\u30FC\\u30B0\\u30EB\\u30C9\\u30E9\\u30A4\\u30D6\\u304B\\u3089\\u30A2\\u30C3\\u30D7\\u30ED\\u30FC\\u30C9' #@param [\"グーグルドライブからアップロード\", \"ローカルからアップロード\"]\n",
        "#@markdown ※ドライブからアップロードする場合はファイル名を記載\n",
        "ファイル名 = \"itigo_230316152445\" #@param {type:\"string\"}\n",
        "\n",
        "if アップロード方法を選択 == 'ローカルからアップロード':\n",
        "  #データをアップロード\n",
        "  uploaded = files.upload()\n",
        "\n",
        "  #ファイル名を取得\n",
        "  ファイル名 = os.path.splitext(list(uploaded.keys())[0])[0]\n",
        "\n",
        "if アップロード方法を選択 == 'グーグルドライブからアップロード':\n",
        "  #グーグルドライブに接続\n",
        "  from google.colab import drive\n",
        "  drive.mount('/content/drive')\n",
        "\n",
        "  #グーグルドライブからcontentにコピー\n",
        "  shutil.copyfile(\"/content/drive/MyDrive/\"+ファイル名+\".mp4\",\"/content/\"+ファイル名+\".mp4\")\n",
        "  shutil.copyfile(\"/content/drive/MyDrive/\"+ファイル名+\".json\",\"/content/\"+ファイル名+\".json\")\n",
        "\n",
        "#視線データを読み込み必要な部分を抽出\n",
        "json_file = \"/content/\"+ファイル名+\".json\"\n",
        "df = pd.read_json(json_file)\n",
        "df2=df[\"EyeData\"].iloc[2]\n",
        "df3 = pd.json_normalize(df2)\n",
        "df6=df3[['recomValid','recomPoint.x','recomPoint.y']]\n",
        "\n",
        "# 動画ファイルのキャプチャー\n",
        "cap = cv2.VideoCapture(\"/content/\"+ファイル名+\".mp4\")\n",
        "\n",
        "# 動画ファイルのフレームレート取得\n",
        "fps = cap.get(cv2.CAP_PROP_FPS)\n",
        "\n",
        "#動画のサイズを取得\n",
        "width = int(cap.get(cv2.CAP_PROP_FRAME_WIDTH))\n",
        "height = int(cap.get(cv2.CAP_PROP_FRAME_HEIGHT))\n",
        "size = (width,height)\n",
        "\n",
        "# 保存用動画ファイルのフォーマット設定\n",
        "fourcc = cv2.VideoWriter_fourcc('m', 'p', '4', 'v')\n",
        "out = cv2.VideoWriter('eye_camera.mp4', fourcc, fps, size)\n",
        "\n",
        "# 動画を1コマずつ取り込んで処理\n",
        "while(cap.isOpened()):\n",
        "    ret, frame = cap.read() # キャプチャー画像の取り込み\n",
        "\n",
        "    if ret==True: # キャプチャー画像がある場合\n",
        "        # 現在時間を取得\n",
        "        time = cap.get(cv2.CAP_PROP_POS_MSEC)\n",
        "\n",
        "        # 現在のフレーム数を取得\n",
        "        frame_n = cap.get(cv2.CAP_PROP_POS_FRAMES)\n",
        "\n",
        "        # タイムコードを作成\n",
        "        timecode = str(int(time//1000)).zfill(2)+':'+str(int(frame_n%fps)).zfill(2)\n",
        "\n",
        "        # 縦横半分にリサイズ\n",
        "        #resize = cv2.resize(frame, size)\n",
        "\n",
        "        # タイムコードを動画に追加\n",
        "        cv2.drawMarker(frame, (int(df6.loc[int(frame_n)][1]*width),int(df6.loc[int(frame_n)][2]*height)), (0, 255, 255))\n",
        "\n",
        "        # mp4動画を保存\n",
        "        out.write(frame)\n",
        "\n",
        "    else: # キャプチャー画像がない場合はループ終了\n",
        "        break\n",
        "\n",
        "cap.release() # 再生画像をクローズ\n",
        "out.release() # 出力動画ファイルをクローズ\n",
        "\n",
        "#ダウンロード\n",
        "files.download(\"/content/eye_camera.mp4\")"
      ],
      "metadata": {
        "id": "SqsU8voNWSM7",
        "outputId": "06d4e5eb-42b4-44d9-e303-089968c37ffb",
        "colab": {
          "base_uri": "https://localhost:8080/"
        },
        "cellView": "form"
      },
      "execution_count": 4,
      "outputs": [
        {
          "output_type": "stream",
          "name": "stdout",
          "text": [
            "Drive already mounted at /content/drive; to attempt to forcibly remount, call drive.mount(\"/content/drive\", force_remount=True).\n"
          ]
        }
      ]
    }
  ]
}
{
  "nbformat": 4,
  "nbformat_minor": 0,
  "metadata": {
    "colab": {
      "provenance": [],
      "toc_visible": true,
      "include_colab_link": true
    },
    "kernelspec": {
      "name": "python3",
      "display_name": "Python 3"
    },
    "language_info": {
      "name": "python"
    }
  },
  "cells": [
    {
      "cell_type": "markdown",
      "metadata": {
        "id": "view-in-github",
        "colab_type": "text"
      },
      "source": [
        "<a href=\"https://colab.research.google.com/github/1900690/strawberry/blob/main/eye_camera_tutorial.ipynb\" target=\"_parent\"><img src=\"https://colab.research.google.com/assets/colab-badge.svg\" alt=\"Open In Colab\"/></a>"
      ]
    },
    {
      "cell_type": "markdown",
      "source": [
        "0.0.1 ファイル作成  \n",
        "0.0.2 船の動画のＵＲＬ追加  \n",
        "0.0.3 jsonのリファクタリングサイトのＵＲＬついか  \n",
        "0.0.4 抽出済みjsonをドライブに追加し,pandasでの整理実験  \n",
        "0.0.5 pandasでデータ抽出、各データの意味を記載  \n",
        "0.0.6 元々のjsonからeyedataを抽出  \n",
        "0.0.7 動画に視線点を描写  \n",
        "0.0.8 ヒートマップを作成  \n",
        "0.0.9 クロマキー合成用にグリーンバック動画を作成"
      ],
      "metadata": {
        "id": "LhLNr03UnOot"
      }
    },
    {
      "cell_type": "markdown",
      "source": [
        "テスト用船の動画（15秒）\n",
        "https://video-ac.com/video/211"
      ],
      "metadata": {
        "id": "GR3GAJcEIIT6"
      }
    },
    {
      "cell_type": "code",
      "source": [
        "from google.colab import drive\n",
        "drive.mount('/content/drive')"
      ],
      "metadata": {
        "colab": {
          "base_uri": "https://localhost:8080/"
        },
        "id": "dBQnIjdfq3g_",
        "outputId": "0950dda4-c83d-4b80-bc1f-669b949ee7df"
      },
      "execution_count": 1,
      "outputs": [
        {
          "output_type": "stream",
          "name": "stdout",
          "text": [
            "Mounted at /content/drive\n"
          ]
        }
      ]
    },
    {
      "cell_type": "code",
      "execution_count": null,
      "metadata": {
        "id": "13kP3WTbmkVj"
      },
      "outputs": [],
      "source": [
        "#@title 動画にタイムレコードを描画\n",
        "from PIL import Image\n",
        "import cv2\n",
        "\n",
        "# gifファイル作成用イメージリスト\n",
        "images =[]\n",
        "\n",
        "# 動画ファイルのキャプチャー\n",
        "cap = cv2.VideoCapture('/content/drive/MyDrive/itigo_230316152445.mp4')\n",
        "\n",
        "# 動画ファイルのフレームレート取得\n",
        "fps = cap.get(cv2.CAP_PROP_FPS)\n",
        "\n",
        "# 保存用動画ファイルのフォーマット設定\n",
        "fourcc = cv2.VideoWriter_fourcc('m', 'p', '4', 'v')\n",
        "out = cv2.VideoWriter('/content/timecode.mp4', fourcc, fps, (320, 180))\n",
        "\n",
        "# 動画を1コマずつ取り込んで処理\n",
        "while(cap.isOpened()):\n",
        "    ret, frame = cap.read() # キャプチャー画像の取り込み\n",
        "\n",
        "    if ret==True: # キャプチャー画像がある場合\n",
        "        # 現在時間を取得\n",
        "        time = cap.get(cv2.CAP_PROP_POS_MSEC)\n",
        "\n",
        "        # 現在のフレーム数を取得\n",
        "        frame_n = cap.get(cv2.CAP_PROP_POS_FRAMES)\n",
        "\n",
        "        # タイムコードを作成\n",
        "        timecode = str(int(time//1000)).zfill(2)+':'+str(int(frame_n%fps)).zfill(2)\n",
        "\n",
        "        # 縦横半分にリサイズ\n",
        "        resize = cv2.resize(frame, (320, 180))\n",
        "\n",
        "        # タイムコードを動画に追加\n",
        "        #cv2.putText(resize, timecode, (260, 170), cv2.FONT_HERSHEY_SIMPLEX, 0.5, (0, 0, 255), lineType=cv2.LINE_AA)\n",
        "        cv2.putText(resize, str(int(frame_n)), (260, 170), cv2.FONT_HERSHEY_SIMPLEX, 0.5, (0, 0, 255), lineType=cv2.LINE_AA)\n",
        "        #動画に図形を描写\n",
        "        #cv2.rectangle(resize, (100, 100), (40, 60), (0, 0, 255))\n",
        "\n",
        "        # mp4動画を保存\n",
        "        out.write(resize)\n",
        "\n",
        "        # opencvからpillow形式に変換しgifファイル作成用リストimagesに追加\n",
        "        matrix_pil = Image.fromarray(cv2.cvtColor(resize, cv2.COLOR_BGR2RGB))\n",
        "        images.append(matrix_pil)\n",
        "\n",
        "    else: # キャプチャー画像がない場合はループ終了\n",
        "        break\n",
        "\n",
        "cap.release() # 再生画像をクローズ\n",
        "out.release() # 出力動画ファイルをクローズ\n",
        "\n",
        "# gif動画保存\n",
        "#images[0].save('timecode.gif', save_all=True, append_images=images[1:],\n",
        "#               optimize=False, duration=1000/fps, loop=0)"
      ]
    },
    {
      "cell_type": "code",
      "source": [
        "#@title ミリ秒のタイムスタンプを取得\n",
        "import cv2\n",
        "#関数定義\n",
        "def get_timestamps(video_path):\n",
        "  cap = cv2.VideoCapture(video_path)\n",
        "  timestamps = [cap.get(cv2.CAP_PROP_POS_MSEC)]\n",
        "  while cap.isOpened():\n",
        "    frame_exists, curr_frame = cap.read()\n",
        "    if not frame_exists:\n",
        "      break\n",
        "    timestamp = cap.get(cv2.CAP_PROP_POS_MSEC)\n",
        "    timestamps.append(timestamp)\n",
        "  cap.release()\n",
        "  return timestamps\n",
        "\n",
        "#動画を指定\n",
        "movie=\"/content/timecode.mp4\"\n",
        "\n",
        "#タイムスタンプ取得\n",
        "timestamps = get_timestamps(movie)\n",
        "print(\"タイムスタンプは\",timestamps)\n",
        "print(\"総フレーム数は\",len(timestamps))\n",
        "#\n",
        "cap = cv2.VideoCapture(movie)\n",
        "print(\"fpsは\",cap.get(cv2.CAP_PROP_FPS))\n",
        "print(\"動画の長さは\",int(len(timestamps)/cap.get(cv2.CAP_PROP_FPS)),\"秒\")"
      ],
      "metadata": {
        "id": "zgnBtxIaolWN",
        "outputId": "bccfdbf6-61ff-4a26-9e5f-3bb56112bc48",
        "colab": {
          "base_uri": "https://localhost:8080/"
        }
      },
      "execution_count": null,
      "outputs": [
        {
          "output_type": "stream",
          "name": "stdout",
          "text": [
            "タイムスタンプは [0.0, 0.0, 33.366700033366705, 66.73340006673341, 100.10010010010011, 133.46680013346682, 166.83350016683352, 200.20020020020021, 233.5669002335669, 266.93360026693364, 300.3003003003003, 333.66700033366703, 367.0337003670337, 400.40040040040043, 433.7671004337671, 467.1338004671338, 500.50050050050055, 533.8672005338673, 567.2339005672338, 600.6006006006006, 633.9673006339673, 667.3340006673341, 700.7007007007007, 734.0674007340674, 767.4341007674341, 800.8008008008009, 834.1675008341675, 867.5342008675342, 900.9009009009009, 934.2676009342676, 967.6343009676343, 1001.0010010010011, 1034.3677010343677, 1067.7344010677346, 1101.1011011011012, 1134.4678011344677, 1167.8345011678346, 1201.2012012012012, 1234.5679012345681, 1267.9346012679346, 1301.3013013013012, 1334.6680013346681, 1368.0347013680348, 1401.4014014014015, 1434.7681014347681, 1468.1348014681348, 1501.5015015015017, 1534.8682015348681, 1568.2349015682348, 1601.6016016016017, 1634.9683016349684, 1668.335001668335, 1701.7017017017017, 1735.0684017350684, 1768.4351017684353, 1801.8018018018017, 1835.1685018351686, 1868.5352018685353, 1901.901901901902, 1935.2686019352686, 1968.6353019686353, 2002.0020020020022, 2035.368702035369, 2068.7354020687353, 2102.1021021021024, 2135.468802135469, 2168.8355021688353, 2202.2022022022024, 2235.568902235569, 2268.9356022689353, 2302.3023023023025, 2335.669002335669, 2369.035702369036, 2402.4024024024025, 2435.769102435769, 2469.1358024691363, 2502.5025025025025, 2535.869202535869, 2569.2359025692363, 2602.6026026026025, 2635.9693026359696, 2669.3360026693363, 2702.7027027027025, 2736.0694027360696, 2769.4361027694363, 2802.802802802803, 2836.1695028361696, 2869.5362028695363, 2902.9029029029034, 2936.2696029362696, 2969.6363029696363, 3003.0030030030034, 3036.3697030363696, 3069.7364030697363, 3103.1031031031034, 3136.4698031364696, 3169.8365031698368, 3203.2032032032034, 3236.56990323657, 3269.9366032699368, 3303.3033033033034, 3336.67000333667, 3370.036703370037, 3403.4034034034034, 3436.7701034367706, 3470.136803470137, 3503.5035035035035, 3536.8702035368706, 3570.2369035702372, 3603.6036036036035, 3636.9703036369706, 3670.3370036703373, 3703.703703703704, 3737.0704037370706, 3770.4371037704373, 3803.803803803804, 3837.1705038371706, 3870.5372038705373, 3903.9039039039044, 3937.2706039372706, 3970.6373039706377, 4004.0040040040044, 4037.3707040373706, 4070.737404070738, 4104.104104104104, 4137.470804137471, 4170.837504170838, 4204.204204204205, 4237.570904237571, 4270.937604270938, 4304.304304304304, 4337.671004337671, 4371.037704371039, 4404.404404404405, 4437.771104437771, 4471.137804471138, 4504.504504504504, 4537.871204537871, 4571.237904571239, 4604.604604604605, 4637.971304637971, 4671.338004671338, 4704.704704704704, 4738.071404738072, 4771.438104771439, 4804.804804804805, 4838.171504838172, 4871.538204871538, 4904.904904904905, 4938.2716049382725, 4971.638304971639, 5005.005005005005, 5038.371705038372, 5071.738405071738, 5105.105105105105, 5138.4718051384725, 5171.838505171839, 5205.205205205205, 5238.571905238572, 5271.938605271939, 5305.305305305305, 5338.6720053386725, 5372.038705372039, 5405.405405405405, 5438.772105438773, 5472.138805472139, 5505.505505505505, 5538.872205538873, 5572.238905572239, 5605.605605605606, 5638.972305638973, 5672.339005672339, 5705.705705705706, 5739.072405739073, 5772.439105772439, 5805.805805805807, 5839.172505839173, 5872.539205872539, 5905.905905905906, 5939.272605939273, 5972.63930597264, 6006.006006006007, 6039.372706039373, 6072.739406072739, 6106.106106106106, 6139.472806139473, 6172.83950617284, 6206.206206206207, 6239.572906239573, 6272.939606272939, 6306.306306306306, 6339.6730063396735, 6373.039706373041, 6406.406406406407, 6439.773106439773, 6473.13980647314, 6506.506506506506, 6539.8732065398735, 6573.239906573241, 6606.606606606607, 6639.973306639973, 6673.34000667334, 6706.706706706707, 6740.073406740074, 6773.440106773441, 6806.806806806807, 6840.173506840173, 6873.540206873541, 6906.906906906907, 6940.273606940274, 6973.640306973641, 7007.007007007007, 7040.373707040374, 7073.740407073741, 7107.107107107107, 7140.4738071404745, 7173.840507173841, 7207.207207207207, 7240.573907240575, 7273.940607273941, 7307.307307307307, 7340.6740073406745, 7374.040707374041, 7407.407407407408, 7440.774107440775, 7474.140807474141, 7507.507507507507, 7540.8742075408745, 7574.240907574241, 7607.607607607608, 7640.974307640975, 7674.341007674341, 7707.707707707707, 7741.0744077410745, 7774.441107774442, 7807.807807807809, 7841.174507841175, 7874.541207874541, 7907.907907907908, 7941.2746079412755, 7974.641307974642, 8008.008008008009, 8041.374708041374, 8074.741408074741, 8108.108108108108, 8141.474808141476, 8174.841508174842, 8208.208208208209, 8241.574908241577, 8274.941608274941, 8308.30830830831, 8341.675008341675, 8375.041708375042, 8408.40840840841, 8441.775108441776, 8475.141808475142, 8508.508508508508, 8541.875208541876, 8575.241908575243, 8608.608608608609, 8641.975308641977, 8675.342008675341, 8708.70870870871, 8742.075408742077, 8775.442108775442, 8808.80880880881, 8842.175508842176, 8875.542208875542, 8908.908908908908, 8942.275608942276, 8975.642308975643, 9009.009009009009, 9042.375709042377, 9075.742409075741, 9109.10910910911, 9142.475809142477, 9175.842509175842, 9209.20920920921, 9242.575909242576, 9275.942609275942, 9309.30930930931, 9342.676009342676, 9376.042709376043, 9409.409409409409, 9442.776109442777, 9476.142809476143, 9509.50950950951, 9542.876209542877, 9576.242909576242, 9609.60960960961, 9642.976309642978, 9676.343009676344, 9709.70970970971, 9743.076409743077, 9776.443109776445, 9809.80980980981, 9843.176509843177, 9876.543209876545, 9909.90990990991, 9943.276609943277, 9976.643309976644, 10010.01001001001, 10043.376710043378, 10076.743410076744, 10110.11011011011, 10143.476810143477, 10176.843510176845, 10210.21021021021, 10243.576910243577, 10276.943610276945, 10310.31031031031, 10343.677010343677, 10377.043710377045, 10410.41041041041, 10443.777110443778, 10477.143810477144, 10510.51051051051, 10543.877210543878, 10577.243910577245, 10610.61061061061, 10643.977310643977, 10677.344010677345, 10710.710710710711, 10744.077410744077, 10777.444110777446, 10810.81081081081, 10844.177510844178, 10877.544210877546, 10910.91091091091, 10944.277610944278, 10977.644310977645, 11011.01101101101, 11044.377711044377, 11077.744411077745, 11111.111111111113, 11144.477811144478, 11177.844511177846, 11211.211211211212, 11244.577911244578, 11277.944611277946, 11311.311311311312, 11344.678011344678, 11378.044711378045, 11411.411411411413, 11444.778111444779, 11478.144811478145, 11511.511511511513, 11544.878211544878, 11578.244911578246, 11611.611611611614, 11644.978311644978, 11678.345011678346, 11711.711711711712, 11745.078411745078, 11778.445111778447, 11811.811811811813, 11845.178511845179, 11878.545211878545, 11911.911911911913, 11945.27861194528, 11978.645311978646, 12012.012012012014, 12045.378712045378, 12078.745412078746, 12112.112112112112, 12145.478812145479, 12178.845512178847, 12212.212212212213, 12245.578912245579, 12278.945612278945, 12312.312312312313, 12345.67901234568, 12379.045712379046, 12412.412412412414, 12445.779112445778, 12479.145812479146, 12512.512512512514, 12545.879212545879, 12579.245912579247, 12612.612612612613, 12645.97931264598, 12679.346012679347, 12712.712712712713, 12746.079412746081, 12779.446112779446, 12812.812812812814, 12846.179512846182, 12879.546212879546, 12912.912912912914, 12946.27961294628, 12979.646312979647, 13013.013013013013, 13046.37971304638, 13079.746413079747, 13113.113113113113, 13146.479813146481, 13179.846513179846, 13213.213213213214, 13246.579913246582, 13279.946613279946, 13313.313313313314, 13346.68001334668, 13380.046713380047, 13413.413413413415, 13446.78011344678, 13480.146813480147, 13513.513513513513, 13546.880213546881, 13580.246913580248, 13613.613613613614, 13646.980313646982, 13680.347013680346, 13713.713713713714, 13747.080413747082, 13780.447113780447, 13813.813813813815, 13847.180513847181, 13880.547213880547, 13913.913913913915, 13947.280613947281, 13980.647313980648, 14014.014014014014, 14047.380714047382, 14080.747414080748, 14114.114114114114, 14147.480814147482, 14180.847514180849, 14214.214214214215, 14247.580914247581, 14280.947614280949, 14314.314314314315, 14347.681014347681, 14381.04771438105, 14414.414414414414, 14447.781114447782, 14481.14781448115, 14514.514514514514, 14547.881214547882, 14581.247914581249, 14614.614614614615, 14647.981314647983, 14681.348014681349, 14714.714714714715, 14748.081414748081, 14781.44811478145, 14814.814814814816, 14848.181514848182, 14881.54821488155, 14914.914914914914, 14948.281614948282, 14981.64831498165, 15015.015015015015, 15048.381715048383, 15081.748415081749, 15115.115115115115, 15148.481815148481]\n",
            "総フレーム数は 456\n",
            "fpsは 29.97\n",
            "動画の長さは 15 秒\n"
          ]
        }
      ]
    },
    {
      "cell_type": "markdown",
      "source": [
        "#jsonから視線データを抽出\n",
        "jsonの構造を把握するには以下のサイトにアクセス\n",
        "https://jsonformatter.curiousconcept.com/#"
      ],
      "metadata": {
        "id": "y7TxzxRqMA5Z"
      }
    },
    {
      "cell_type": "code",
      "source": [
        "#ファイルコピー\n",
        "import shutil\n",
        "shutil.copyfile(\"/content/drive/MyDrive/itigo_230316152445.json\", \"/content/itigo_230316152445.json\")"
      ],
      "metadata": {
        "id": "-mNexIlPcxVw",
        "outputId": "d3ed42bd-98d4-483a-bc4e-a3e987408baf",
        "colab": {
          "base_uri": "https://localhost:8080/",
          "height": 35
        }
      },
      "execution_count": null,
      "outputs": [
        {
          "output_type": "execute_result",
          "data": {
            "text/plain": [
              "'/content/itigo_230316152445.json'"
            ],
            "application/vnd.google.colaboratory.intrinsic+json": {
              "type": "string"
            }
          },
          "metadata": {},
          "execution_count": 8
        }
      ]
    },
    {
      "cell_type": "markdown",
      "source": [
        "参考;  \n",
        "https://qiita.com/hrsma2i/items/cd089d00165ae16e56a1  \n",
        "https://note.nkmk.me/python-pandas-json-normalize/"
      ],
      "metadata": {
        "id": "YtUyebkzdoyc"
      }
    },
    {
      "cell_type": "markdown",
      "source": [
        "各データの意味  \n",
        "このjsonファイルは、EyeDataというキーに対応する値として、目のデータを表すオブジェクトの配列を持っています。各オブジェクトは以下のキーと値を持っています。\n",
        "\n",
        "**有効なデータの場合**\n",
        "- eyeValid: 目の有効性を示す数値です。4は両目が有効であることを意味します¹。\n",
        "- gazePoint0: 左目の視線の座標を示すオブジェクトです。x, y, zはそれぞれ水平方向、垂直方向、奥行き方向の座標を表します。zが-1.0の場合は視線が無効であることを意味します¹。\n",
        "- gazePoint1: 右目の視線の座標を示すオブジェクトです。x, y, zは同様に座標を表します¹。\n",
        "- gazeValid: 視線の有効性を示す数値です。20は両目の視線が有効であることを意味します¹。\n",
        "- gazeVectorLeft: 左目の視線ベクトルを示すオブジェクトです。x, y, zはそれぞれ水平方向、垂直方向、奥行き方向のベクトル成分を表します¹。\n",
        "- gazeVectorRight: 右目の視線ベクトルを示すオブジェクトです。x, y, zは同様にベクトル成分を表します¹。\n",
        "- lPupilCenterX: 左目の瞳孔中心の水平方向の座標です²。\n",
        "- lPupilDiameter: 左目の瞳孔直径です²。\n",
        "- lPupilDiameterMM: 左目の瞳孔直径（ミリメートル単位）です²。\n",
        "- leftExData: 左目の拡張データを示すオブジェクトです。blinkはまばたきを示す数値で、0はまばたきしていないことを意味します。eyeDataExBitMaskは拡張データが有効であることを示す数値で、1はeyelidDown, eyelidUp, opennessが有効であることを意味します。eyelidDownは下まぶたの位置、eyelidUpは上まぶたの位置、opennessは目の開き具合を表す数値です³。\n",
        "- pupilCenter0: 左目の瞳孔中心の座標を示すオブジェクトです。x, yはそれぞれ水平方向、垂直方向の座標を表します。\n",
        "- pupilCenter1: 右目の瞳孔中心の座標を示すオブジェクトです。x, yは同様に座標を表します。\n",
        "- pupilRadius0: 左目の瞳孔半径です。\n",
        "- pupilRadius1: 右目の瞳孔半径です。\n",
        "- rPupilCenterX: 右目の瞳孔中心の水平方向の座標です²。\n",
        "- rPupilDiameter: 右目の瞳孔直径です²。\n",
        "- rPupilDiameterMM: 右目の瞳孔直径（ミリメートル単位）です²。\n",
        "- recomPoint: 推奨される視点（両目視点）の座標を示すオブジェクトです。x, y, zはそれぞれ水平方向、垂直方向、奥行き方向の座標を表します¹。\n",
        "- recomValid: 推奨される視点の有効性を示す真偽値です。trueは有効であることを意味します¹。\n",
        "- rightExData: 右目の拡張データを示すオブジェクトです。blink, eyeDataExBitMask, eyelidDown, eyelidUp, opennessは左目の拡張データと同様に意味します³。\n",
        "- timestmp: データが取得された時刻を示す数値です¹。"
      ],
      "metadata": {
        "id": "oz4nogeVmWHC"
      }
    },
    {
      "cell_type": "code",
      "source": [
        "#データを読み込み分解する\n",
        "import pandas as pd\n",
        "\n",
        "json_file = \"/content/drive/MyDrive/Guest_230725114056.json\"\n",
        "df = pd.read_json(json_file)\n",
        "df2=df[\"EyeData\"].iloc[2]\n",
        "df3 = pd.json_normalize(df2)\n",
        "df4=df[\"Data\"].iloc[3]\n",
        "df5=pd.json_normalize(df4, record_path='pixelList',meta=['first_frame_tsp','gaze_fps','hint','video_fps'])\n",
        "df6=df3[['recomValid','recomPoint.x','recomPoint.y']]"
      ],
      "metadata": {
        "id": "LbFSVGS8kJAx"
      },
      "execution_count": null,
      "outputs": []
    },
    {
      "cell_type": "markdown",
      "source": [
        "#タイムレコードに従った位置に視線を描写"
      ],
      "metadata": {
        "id": "ETbgwaGPQ0Md"
      }
    },
    {
      "cell_type": "code",
      "source": [
        "from PIL import Image\n",
        "import cv2\n",
        "\n",
        "# gifファイル作成用イメージリスト\n",
        "images =[]\n",
        "\n",
        "# 動画ファイルのキャプチャー\n",
        "cap = cv2.VideoCapture('/content/drive/MyDrive/itigo_230316152445.mp4')\n",
        "\n",
        "# 動画ファイルのフレームレート取得\n",
        "fps = cap.get(cv2.CAP_PROP_FPS)\n",
        "\n",
        "# 保存用動画ファイルのフォーマット設定\n",
        "fourcc = cv2.VideoWriter_fourcc('m', 'p', '4', 'v')\n",
        "out = cv2.VideoWriter('timecode_and_eye.mp4', fourcc, fps, (320, 180))\n",
        "\n",
        "# 動画を1コマずつ取り込んで処理\n",
        "while(cap.isOpened()):\n",
        "    ret, frame = cap.read() # キャプチャー画像の取り込み\n",
        "\n",
        "    if ret==True: # キャプチャー画像がある場合\n",
        "        # 現在時間を取得\n",
        "        time = cap.get(cv2.CAP_PROP_POS_MSEC)\n",
        "\n",
        "        # 現在のフレーム数を取得\n",
        "        frame_n = cap.get(cv2.CAP_PROP_POS_FRAMES)\n",
        "\n",
        "        # タイムコードを作成\n",
        "        timecode = str(int(time//1000)).zfill(2)+':'+str(int(frame_n%fps)).zfill(2)\n",
        "\n",
        "        # 縦横半分にリサイズ\n",
        "        resize = cv2.resize(frame, (320, 180))\n",
        "\n",
        "        # タイムコードを動画に追加\n",
        "        #cv2.putText(resize, timecode, (260, 170), cv2.FONT_HERSHEY_SIMPLEX, 0.5, (0, 0, 255), lineType=cv2.LINE_AA)\n",
        "        cv2.putText(resize, str(int(frame_n)), (260, 170), cv2.FONT_HERSHEY_SIMPLEX, 0.5, (0, 0, 255), lineType=cv2.LINE_AA)\n",
        "        #視線印を書き込む\n",
        "        cv2.drawMarker(resize, (int(df6.loc[int(frame_n)][1]*320),int(df6.loc[int(frame_n)][2]*180)), (255, 0, 0))\n",
        "\n",
        "        # mp4動画を保存\n",
        "        out.write(resize)\n",
        "\n",
        "        # opencvからpillow形式に変換しgifファイル作成用リストimagesに追加\n",
        "        matrix_pil = Image.fromarray(cv2.cvtColor(resize, cv2.COLOR_BGR2RGB))\n",
        "        images.append(matrix_pil)\n",
        "\n",
        "    else: # キャプチャー画像がない場合はループ終了\n",
        "        break\n",
        "\n",
        "cap.release() # 再生画像をクローズ\n",
        "out.release() # 出力動画ファイルをクローズ"
      ],
      "metadata": {
        "id": "pxPr_7bNu0en"
      },
      "execution_count": null,
      "outputs": []
    },
    {
      "cell_type": "markdown",
      "source": [
        "#視線データを重ね合わせてヒートマップ作成"
      ],
      "metadata": {
        "id": "GiRGhr8BvoAw"
      }
    },
    {
      "cell_type": "code",
      "source": [
        "from PIL import Image\n",
        "import cv2\n",
        "import matplotlib.pyplot as plt\n",
        "import glob\n",
        "import shutil\n",
        "import numpy as np\n",
        "from google.colab.patches import cv2_imshow\n",
        "\n",
        "\n",
        "# 動画ファイルのキャプチャー\n",
        "cap = cv2.VideoCapture('/content/drive/MyDrive/itigo_230316152445.mp4')\n",
        "\n",
        "#最初のフレームを抽出\n",
        "cap.set(cv2.CAP_PROP_POS_FRAMES, 0)\n",
        "ret, frame = cap.read()\n",
        "first_frame=frame\n",
        "\n",
        "#動画の縦横サイズとフレーム数を取得\n",
        "width=int(cap.get(cv2.CAP_PROP_FRAME_WIDTH))\n",
        "height=int(cap.get(cv2.CAP_PROP_FRAME_HEIGHT))\n",
        "size = (width,height)\n",
        "gaze_point_size=min(size)//10\n",
        "\n",
        "#初期値\n",
        "ellipse=0\n",
        "x, y = np.mgrid[:height,:width]\n",
        "\n",
        "\n",
        "# 動画を1コマずつ取り込んで処理\n",
        "while(cap.isOpened()):\n",
        "    ret, frame = cap.read() # キャプチャー画像の取り込み\n",
        "\n",
        "    if ret==True: # キャプチャー画像がある場合\n",
        "\n",
        "        # 現在のフレーム数を取得\n",
        "        frame_n = cap.get(cv2.CAP_PROP_POS_FRAMES)\n",
        "\n",
        "        #視点の範囲を計算\n",
        "        x_0, y_0 = (int(df6.loc[int(frame_n)][2]*height), int(df6.loc[int(frame_n)][1]*width)) #中央の点\n",
        "        a, b = (gaze_point_size, gaze_point_size)#円の幅\n",
        "        ellipse_temp = ((height - x_0)**2/a**2 + (width - y_0)**2/b**2 - 1<0).astype(np.float16)\n",
        "        ellipse=ellipse+ellipse_temp\n",
        "\n",
        "    else: # キャプチャー画像がない場合はループ終了\n",
        "        break\n",
        "\n",
        "cap.release() # 再生画像をクローズ\n",
        "\n",
        "#ヒートマップを保存\n",
        "heat=ellipse*255//int(np.amax(ellipse))\n",
        "plt.imsave(\"/content/jet.jpg\",heat, cmap=\"jet\")\n",
        "\n",
        "#最初のフレームと合成\n",
        "dst=cv2.addWeighted(first_frame, 0.3, cv2.imread(\"/content/jet.jpg\"), 0.7, 0)\n",
        "\n",
        "cv2_imshow(dst)"
      ],
      "metadata": {
        "id": "koc-YQvZAWvA",
        "outputId": "a61ab646-53b6-46db-cde7-2fb65e356e47",
        "colab": {
          "base_uri": "https://localhost:8080/",
          "height": 250
        }
      },
      "execution_count": null,
      "outputs": [
        {
          "output_type": "error",
          "ename": "NameError",
          "evalue": "ignored",
          "traceback": [
            "\u001b[0;31m---------------------------------------------------------------------------\u001b[0m",
            "\u001b[0;31mNameError\u001b[0m                                 Traceback (most recent call last)",
            "\u001b[0;32m<ipython-input-2-4ab50ff5056e>\u001b[0m in \u001b[0;36m<cell line: 30>\u001b[0;34m()\u001b[0m\n\u001b[1;32m     37\u001b[0m \u001b[0;34m\u001b[0m\u001b[0m\n\u001b[1;32m     38\u001b[0m         \u001b[0;31m#視点の範囲を計算\u001b[0m\u001b[0;34m\u001b[0m\u001b[0;34m\u001b[0m\u001b[0m\n\u001b[0;32m---> 39\u001b[0;31m         \u001b[0mx_0\u001b[0m\u001b[0;34m,\u001b[0m \u001b[0my_0\u001b[0m \u001b[0;34m=\u001b[0m \u001b[0;34m(\u001b[0m\u001b[0mint\u001b[0m\u001b[0;34m(\u001b[0m\u001b[0mdf6\u001b[0m\u001b[0;34m.\u001b[0m\u001b[0mloc\u001b[0m\u001b[0;34m[\u001b[0m\u001b[0mint\u001b[0m\u001b[0;34m(\u001b[0m\u001b[0mframe_n\u001b[0m\u001b[0;34m)\u001b[0m\u001b[0;34m]\u001b[0m\u001b[0;34m[\u001b[0m\u001b[0;36m2\u001b[0m\u001b[0;34m]\u001b[0m\u001b[0;34m*\u001b[0m\u001b[0mheight\u001b[0m\u001b[0;34m)\u001b[0m\u001b[0;34m,\u001b[0m \u001b[0mint\u001b[0m\u001b[0;34m(\u001b[0m\u001b[0mdf6\u001b[0m\u001b[0;34m.\u001b[0m\u001b[0mloc\u001b[0m\u001b[0;34m[\u001b[0m\u001b[0mint\u001b[0m\u001b[0;34m(\u001b[0m\u001b[0mframe_n\u001b[0m\u001b[0;34m)\u001b[0m\u001b[0;34m]\u001b[0m\u001b[0;34m[\u001b[0m\u001b[0;36m1\u001b[0m\u001b[0;34m]\u001b[0m\u001b[0;34m*\u001b[0m\u001b[0mwidth\u001b[0m\u001b[0;34m)\u001b[0m\u001b[0;34m)\u001b[0m \u001b[0;31m#中央の点\u001b[0m\u001b[0;34m\u001b[0m\u001b[0;34m\u001b[0m\u001b[0m\n\u001b[0m\u001b[1;32m     40\u001b[0m         \u001b[0ma\u001b[0m\u001b[0;34m,\u001b[0m \u001b[0mb\u001b[0m \u001b[0;34m=\u001b[0m \u001b[0;34m(\u001b[0m\u001b[0mgaze_point_size\u001b[0m\u001b[0;34m,\u001b[0m \u001b[0mgaze_point_size\u001b[0m\u001b[0;34m)\u001b[0m\u001b[0;31m#円の幅\u001b[0m\u001b[0;34m\u001b[0m\u001b[0;34m\u001b[0m\u001b[0m\n\u001b[1;32m     41\u001b[0m         \u001b[0mellipse_temp\u001b[0m \u001b[0;34m=\u001b[0m \u001b[0;34m(\u001b[0m\u001b[0;34m(\u001b[0m\u001b[0mheight\u001b[0m \u001b[0;34m-\u001b[0m \u001b[0mx_0\u001b[0m\u001b[0;34m)\u001b[0m\u001b[0;34m**\u001b[0m\u001b[0;36m2\u001b[0m\u001b[0;34m/\u001b[0m\u001b[0ma\u001b[0m\u001b[0;34m**\u001b[0m\u001b[0;36m2\u001b[0m \u001b[0;34m+\u001b[0m \u001b[0;34m(\u001b[0m\u001b[0mwidth\u001b[0m \u001b[0;34m-\u001b[0m \u001b[0my_0\u001b[0m\u001b[0;34m)\u001b[0m\u001b[0;34m**\u001b[0m\u001b[0;36m2\u001b[0m\u001b[0;34m/\u001b[0m\u001b[0mb\u001b[0m\u001b[0;34m**\u001b[0m\u001b[0;36m2\u001b[0m \u001b[0;34m-\u001b[0m \u001b[0;36m1\u001b[0m\u001b[0;34m<\u001b[0m\u001b[0;36m0\u001b[0m\u001b[0;34m)\u001b[0m\u001b[0;34m.\u001b[0m\u001b[0mastype\u001b[0m\u001b[0;34m(\u001b[0m\u001b[0mnp\u001b[0m\u001b[0;34m.\u001b[0m\u001b[0mfloat16\u001b[0m\u001b[0;34m)\u001b[0m\u001b[0;34m\u001b[0m\u001b[0;34m\u001b[0m\u001b[0m\n",
            "\u001b[0;31mNameError\u001b[0m: name 'df6' is not defined"
          ]
        }
      ]
    },
    {
      "cell_type": "markdown",
      "source": [
        "#グリーンバック視点動画"
      ],
      "metadata": {
        "id": "QRpJQLBqmfd9"
      }
    },
    {
      "cell_type": "code",
      "source": [
        "#ファイルを消去\n",
        "import os\n",
        "import glob\n",
        "\n",
        "for p in glob.glob('/content/*.jpg', recursive=True):\n",
        "    if os.path.isfile(p):\n",
        "        os.remove(p)\n",
        "for p in glob.glob('/content/*.json', recursive=True):\n",
        "    if os.path.isfile(p):\n",
        "        os.remove(p)\n",
        "for p in glob.glob('/content/*.mp4', recursive=True):\n",
        "    if os.path.isfile(p):\n",
        "        os.remove(p)\n",
        "\n",
        "#ライブラリをインポート\n",
        "from pandas.core.base import doc\n",
        "import shutil\n",
        "import os\n",
        "from google.colab import files\n",
        "import pandas as pd\n",
        "from PIL import Image\n",
        "import cv2\n",
        "from google.colab.patches import cv2_imshow\n",
        "import numpy as np\n",
        "\n",
        "#データをアップロード\n",
        "uploaded = files.upload()\n",
        "#ファイル名を取得\n",
        "ファイル名を記入 = os.path.splitext(list(uploaded.keys())[0])[0]\n",
        "\n",
        "\n",
        "#視線データを読み込み必要な部分を抽出\n",
        "json_file =\"/content/\"+ファイル名を記入+\".json\"\n",
        "df = pd.read_json(json_file)\n",
        "df2=df[\"EyeData\"].iloc[2]\n",
        "df3 = pd.json_normalize(df2)\n",
        "df6=df3[['recomValid','recomPoint.x','recomPoint.y']]\n",
        "df7=df[\"Data\"].iloc[3]\n",
        "df8=df7[\"pixelList\"]\n",
        "# 動画ファイルのフレームレート取得\n",
        "fps = df7[\"gaze_fps\"]\n",
        "\n",
        "#動画のサイズを取得\n",
        "width = df8[0][\"width\"]\n",
        "height = df8[0][\"height\"]\n",
        "size = (width,height)\n",
        "point_size=max(width,height)\n",
        "\n",
        "# 保存用動画ファイルのフォーマット設定\n",
        "fourcc = cv2.VideoWriter_fourcc('m', 'p', '4', 'v')\n",
        "out = cv2.VideoWriter(\"/content/\"+ファイル名を記入+\"_eye_point.mp4\", fourcc, fps, size)\n",
        "\n",
        "#白紙の動画を作成\n",
        "white_img = np.ones((width, height, 3), np.uint8) * 255\n",
        "cv2.imwrite('/content/white.jpg', white_img)\n",
        "fourcc = cv2.VideoWriter_fourcc('m', 'p', '4', 'v')\n",
        "video = cv2.VideoWriter('/content/video.mp4', fourcc, fps, (width, height))\n",
        "img = cv2.resize(cv2.imread('/content/white.jpg'), (width, height))\n",
        "for i in range(0, len(df6)-1):\n",
        "    video.write(img)\n",
        "video.release()\n",
        "\n",
        "cap = cv2.VideoCapture(\"/content/video.mp4\")\n",
        "# 動画を1コマずつ取り込んで処理\n",
        "while(cap.isOpened()):\n",
        "    ret, frame = cap.read() # キャプチャー画像の取り込み\n",
        "\n",
        "    if ret==True: # キャプチャー画像がある場合\n",
        "        # 現在時間を取得\n",
        "        time = cap.get(cv2.CAP_PROP_POS_MSEC)\n",
        "\n",
        "        # 現在のフレーム数を取得\n",
        "        frame_n = cap.get(cv2.CAP_PROP_POS_FRAMES)\n",
        "\n",
        "        # 視点を描画\n",
        "        cv2.drawMarker(frame, (int(df6.loc[int(frame_n)][1]*width),int(df6.loc[int(frame_n)][2]*height)), (0, 0, 255),cv2.MARKER_CROSS,int(point_size/10),int(point_size/100))\n",
        "\n",
        "        # mp4動画を保存\n",
        "        out.write(frame)\n",
        "\n",
        "    else: # キャプチャー画像がない場合はループ終了\n",
        "        break\n",
        "\n",
        "cap.release() # 再生画像をクローズ\n",
        "out.release() # 出力動画ファイルをクローズ\n",
        "\n",
        "#ダウンロード\n",
        "files.download(\"/content/\"+ファイル名を記入+\"_eye_point.mp4\")\n",
        "\n",
        "#結果表示用\n",
        "cap = cv2.VideoCapture(\"/content/\"+ファイル名を記入+\"_eye_point.mp4\")\n",
        "#最初のフレームを抽出\n",
        "cap.set(cv2.CAP_PROP_POS_FRAMES, 0)\n",
        "ret, frame = cap.read()\n",
        "showimg=frame\n",
        "cv2_imshow(showimg)"
      ],
      "metadata": {
        "id": "cbYa1uT1CV_x",
        "outputId": "c87e174c-3fc5-439c-e880-25d47a6888bd",
        "colab": {
          "base_uri": "https://localhost:8080/",
          "height": 689
        }
      },
      "execution_count": 4,
      "outputs": [
        {
          "output_type": "display_data",
          "data": {
            "text/plain": [
              "<IPython.core.display.HTML object>"
            ],
            "text/html": [
              "\n",
              "     <input type=\"file\" id=\"files-3482da8d-91c3-45b2-b534-ce178b3b8ea7\" name=\"files[]\" multiple disabled\n",
              "        style=\"border:none\" />\n",
              "     <output id=\"result-3482da8d-91c3-45b2-b534-ce178b3b8ea7\">\n",
              "      Upload widget is only available when the cell has been executed in the\n",
              "      current browser session. Please rerun this cell to enable.\n",
              "      </output>\n",
              "      <script>// Copyright 2017 Google LLC\n",
              "//\n",
              "// Licensed under the Apache License, Version 2.0 (the \"License\");\n",
              "// you may not use this file except in compliance with the License.\n",
              "// You may obtain a copy of the License at\n",
              "//\n",
              "//      http://www.apache.org/licenses/LICENSE-2.0\n",
              "//\n",
              "// Unless required by applicable law or agreed to in writing, software\n",
              "// distributed under the License is distributed on an \"AS IS\" BASIS,\n",
              "// WITHOUT WARRANTIES OR CONDITIONS OF ANY KIND, either express or implied.\n",
              "// See the License for the specific language governing permissions and\n",
              "// limitations under the License.\n",
              "\n",
              "/**\n",
              " * @fileoverview Helpers for google.colab Python module.\n",
              " */\n",
              "(function(scope) {\n",
              "function span(text, styleAttributes = {}) {\n",
              "  const element = document.createElement('span');\n",
              "  element.textContent = text;\n",
              "  for (const key of Object.keys(styleAttributes)) {\n",
              "    element.style[key] = styleAttributes[key];\n",
              "  }\n",
              "  return element;\n",
              "}\n",
              "\n",
              "// Max number of bytes which will be uploaded at a time.\n",
              "const MAX_PAYLOAD_SIZE = 100 * 1024;\n",
              "\n",
              "function _uploadFiles(inputId, outputId) {\n",
              "  const steps = uploadFilesStep(inputId, outputId);\n",
              "  const outputElement = document.getElementById(outputId);\n",
              "  // Cache steps on the outputElement to make it available for the next call\n",
              "  // to uploadFilesContinue from Python.\n",
              "  outputElement.steps = steps;\n",
              "\n",
              "  return _uploadFilesContinue(outputId);\n",
              "}\n",
              "\n",
              "// This is roughly an async generator (not supported in the browser yet),\n",
              "// where there are multiple asynchronous steps and the Python side is going\n",
              "// to poll for completion of each step.\n",
              "// This uses a Promise to block the python side on completion of each step,\n",
              "// then passes the result of the previous step as the input to the next step.\n",
              "function _uploadFilesContinue(outputId) {\n",
              "  const outputElement = document.getElementById(outputId);\n",
              "  const steps = outputElement.steps;\n",
              "\n",
              "  const next = steps.next(outputElement.lastPromiseValue);\n",
              "  return Promise.resolve(next.value.promise).then((value) => {\n",
              "    // Cache the last promise value to make it available to the next\n",
              "    // step of the generator.\n",
              "    outputElement.lastPromiseValue = value;\n",
              "    return next.value.response;\n",
              "  });\n",
              "}\n",
              "\n",
              "/**\n",
              " * Generator function which is called between each async step of the upload\n",
              " * process.\n",
              " * @param {string} inputId Element ID of the input file picker element.\n",
              " * @param {string} outputId Element ID of the output display.\n",
              " * @return {!Iterable<!Object>} Iterable of next steps.\n",
              " */\n",
              "function* uploadFilesStep(inputId, outputId) {\n",
              "  const inputElement = document.getElementById(inputId);\n",
              "  inputElement.disabled = false;\n",
              "\n",
              "  const outputElement = document.getElementById(outputId);\n",
              "  outputElement.innerHTML = '';\n",
              "\n",
              "  const pickedPromise = new Promise((resolve) => {\n",
              "    inputElement.addEventListener('change', (e) => {\n",
              "      resolve(e.target.files);\n",
              "    });\n",
              "  });\n",
              "\n",
              "  const cancel = document.createElement('button');\n",
              "  inputElement.parentElement.appendChild(cancel);\n",
              "  cancel.textContent = 'Cancel upload';\n",
              "  const cancelPromise = new Promise((resolve) => {\n",
              "    cancel.onclick = () => {\n",
              "      resolve(null);\n",
              "    };\n",
              "  });\n",
              "\n",
              "  // Wait for the user to pick the files.\n",
              "  const files = yield {\n",
              "    promise: Promise.race([pickedPromise, cancelPromise]),\n",
              "    response: {\n",
              "      action: 'starting',\n",
              "    }\n",
              "  };\n",
              "\n",
              "  cancel.remove();\n",
              "\n",
              "  // Disable the input element since further picks are not allowed.\n",
              "  inputElement.disabled = true;\n",
              "\n",
              "  if (!files) {\n",
              "    return {\n",
              "      response: {\n",
              "        action: 'complete',\n",
              "      }\n",
              "    };\n",
              "  }\n",
              "\n",
              "  for (const file of files) {\n",
              "    const li = document.createElement('li');\n",
              "    li.append(span(file.name, {fontWeight: 'bold'}));\n",
              "    li.append(span(\n",
              "        `(${file.type || 'n/a'}) - ${file.size} bytes, ` +\n",
              "        `last modified: ${\n",
              "            file.lastModifiedDate ? file.lastModifiedDate.toLocaleDateString() :\n",
              "                                    'n/a'} - `));\n",
              "    const percent = span('0% done');\n",
              "    li.appendChild(percent);\n",
              "\n",
              "    outputElement.appendChild(li);\n",
              "\n",
              "    const fileDataPromise = new Promise((resolve) => {\n",
              "      const reader = new FileReader();\n",
              "      reader.onload = (e) => {\n",
              "        resolve(e.target.result);\n",
              "      };\n",
              "      reader.readAsArrayBuffer(file);\n",
              "    });\n",
              "    // Wait for the data to be ready.\n",
              "    let fileData = yield {\n",
              "      promise: fileDataPromise,\n",
              "      response: {\n",
              "        action: 'continue',\n",
              "      }\n",
              "    };\n",
              "\n",
              "    // Use a chunked sending to avoid message size limits. See b/62115660.\n",
              "    let position = 0;\n",
              "    do {\n",
              "      const length = Math.min(fileData.byteLength - position, MAX_PAYLOAD_SIZE);\n",
              "      const chunk = new Uint8Array(fileData, position, length);\n",
              "      position += length;\n",
              "\n",
              "      const base64 = btoa(String.fromCharCode.apply(null, chunk));\n",
              "      yield {\n",
              "        response: {\n",
              "          action: 'append',\n",
              "          file: file.name,\n",
              "          data: base64,\n",
              "        },\n",
              "      };\n",
              "\n",
              "      let percentDone = fileData.byteLength === 0 ?\n",
              "          100 :\n",
              "          Math.round((position / fileData.byteLength) * 100);\n",
              "      percent.textContent = `${percentDone}% done`;\n",
              "\n",
              "    } while (position < fileData.byteLength);\n",
              "  }\n",
              "\n",
              "  // All done.\n",
              "  yield {\n",
              "    response: {\n",
              "      action: 'complete',\n",
              "    }\n",
              "  };\n",
              "}\n",
              "\n",
              "scope.google = scope.google || {};\n",
              "scope.google.colab = scope.google.colab || {};\n",
              "scope.google.colab._files = {\n",
              "  _uploadFiles,\n",
              "  _uploadFilesContinue,\n",
              "};\n",
              "})(self);\n",
              "</script> "
            ]
          },
          "metadata": {}
        },
        {
          "output_type": "stream",
          "name": "stdout",
          "text": [
            "Saving Guest_230725114056.json to Guest_230725114056.json\n"
          ]
        },
        {
          "output_type": "display_data",
          "data": {
            "text/plain": [
              "<IPython.core.display.Javascript object>"
            ],
            "application/javascript": [
              "\n",
              "    async function download(id, filename, size) {\n",
              "      if (!google.colab.kernel.accessAllowed) {\n",
              "        return;\n",
              "      }\n",
              "      const div = document.createElement('div');\n",
              "      const label = document.createElement('label');\n",
              "      label.textContent = `Downloading \"${filename}\": `;\n",
              "      div.appendChild(label);\n",
              "      const progress = document.createElement('progress');\n",
              "      progress.max = size;\n",
              "      div.appendChild(progress);\n",
              "      document.body.appendChild(div);\n",
              "\n",
              "      const buffers = [];\n",
              "      let downloaded = 0;\n",
              "\n",
              "      const channel = await google.colab.kernel.comms.open(id);\n",
              "      // Send a message to notify the kernel that we're ready.\n",
              "      channel.send({})\n",
              "\n",
              "      for await (const message of channel.messages) {\n",
              "        // Send a message to notify the kernel that we're ready.\n",
              "        channel.send({})\n",
              "        if (message.buffers) {\n",
              "          for (const buffer of message.buffers) {\n",
              "            buffers.push(buffer);\n",
              "            downloaded += buffer.byteLength;\n",
              "            progress.value = downloaded;\n",
              "          }\n",
              "        }\n",
              "      }\n",
              "      const blob = new Blob(buffers, {type: 'application/binary'});\n",
              "      const a = document.createElement('a');\n",
              "      a.href = window.URL.createObjectURL(blob);\n",
              "      a.download = filename;\n",
              "      div.appendChild(a);\n",
              "      a.click();\n",
              "      div.remove();\n",
              "    }\n",
              "  "
            ]
          },
          "metadata": {}
        },
        {
          "output_type": "display_data",
          "data": {
            "text/plain": [
              "<IPython.core.display.Javascript object>"
            ],
            "application/javascript": [
              "download(\"download_88fdd2c8-e753-4e25-94af-250535661d87\", \"Guest_230725114056_eye_point.mp4\", 1643028)"
            ]
          },
          "metadata": {}
        },
        {
          "output_type": "display_data",
          "data": {
            "text/plain": [
              "<PIL.Image.Image image mode=RGB size=1280x736>"
            ],
            "image/png": "[encoded data removed]"
          },
          "metadata": {}
        }
      ]
    }
  ]
}